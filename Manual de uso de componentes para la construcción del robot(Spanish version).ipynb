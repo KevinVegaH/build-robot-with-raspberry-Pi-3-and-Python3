{
 "cells": [
  {
   "cell_type": "markdown",
   "metadata": {},
   "source": [
    "## Manual de uso de componentes para la construcción de un robot con Raspberry PI 3 Model B usando Python 3\n"
   ]
  },
  {
   "cell_type": "markdown",
   "metadata": {},
   "source": [
    "En el presente Notebook aprenderemos a usar los componentes para la construcción de un robot de dos ruedas utlizando una Raspberry PI 3 Model B mediante el modulo RPI.GPIO y el lenguaje de programacion Python 3."
   ]
  },
  {
   "cell_type": "markdown",
   "metadata": {},
   "source": [
    "### Contenido\n",
    "\n",
    "* **Control de GPIO con Python en Raspberry Pi**\n",
    "    - **¿Que es GPIO?**\n",
    "    - **modulo RPI.GPIO**\n",
    "        * Numeración de pines\n",
    "        * Configurar un canal\n",
    "        * Configurar más de un canal\n",
    "        * Leer valor de entrada\n",
    "        * Establecer el estado de Salida\n",
    "        * Salida a varios canales\n",
    "        * Limpiar recursos\n",
    "        * Configurar PWM\n",
    "    - **Detener la ejecución**\n",
    "* **Ejemplo**\n",
    "\n"
   ]
  },
  {
   "cell_type": "markdown",
   "metadata": {
    "collapsed": true
   },
   "source": [
    "### Control de GPIO con Python 3 en Raspberry PI\n",
    "\n",
    "### - ¿Que es GPIO?\n",
    "\n",
    "General Purpose input Output(GPIO) es un sistema de entrada y salida de propósito general, está conformado por una serie de pines o conexiones los cuales se pueden configurar como entradas o salidas. este comportamiento se puede controlar(programar) por el usuario en tiempo de ejecución.\n",
    "<br>\n",
    "<img src='Image/GPIO Raspberry.png' align='center' width='600' height='600'>\n",
    "<br>\n",
    "<center>Grafico 1. Pines GPIO para Raspberry Pi 3 Modelo B</center>\n",
    "\n",
    "La interfaz de hardaware de la Raspberry Pi 3 cuenta con 40 pines en la placa, teniendo las siguientes funcionalidades:\n",
    "\n",
    " * 24x - pines GPIO independientes programables por software.\n",
    " * 1x - modulo UART, entrada y salida.\n",
    " * 2x - buses SPI.\n",
    " * 1x - bus I2C.\n",
    " * 2x - canales 5V PWM con DC independiente y dos modos de operación.\n",
    " * 2x - canales 3.3V PWM.\n",
    " * 8x - pines de tierra.\n",
    "\n",
    "### - Modulo RPI.GPIO\n",
    "\n",
    "El modulo RPI.GPIO nos permite configurar facilmente los pines de entrada/salida GPIO de la Raspberry mediante una secuencia de comandos Python.\n",
    "\n",
    "Primeramente lo que debemos hacer es importar este modulo de la siguiente manera:"
   ]
  },
  {
   "cell_type": "code",
   "execution_count": null,
   "metadata": {
    "collapsed": true
   },
   "outputs": [],
   "source": [
    "import RPi.GPIO as GPIO # -> GPIO es la referencia al modulo."
   ]
  },
  {
   "cell_type": "markdown",
   "metadata": {},
   "source": [
    "### Numeración de pines \n",
    "\n",
    "Especificamos el sistema de numeración, en este caso usamos BCM, que se refiere a los numeros de canal en el BroadcomSOC teniendo encuenta en que pines estamos conectados en la placa RPI. \n",
    "\n",
    "El sistema de numeración lo asignamos de la siguiente forma:"
   ]
  },
  {
   "cell_type": "code",
   "execution_count": null,
   "metadata": {},
   "outputs": [],
   "source": [
    "GPIO.setmode(GPIO.BCM)"
   ]
  },
  {
   "cell_type": "markdown",
   "metadata": {
    "collapsed": true
   },
   "source": [
    "### Configurar un canal\n",
    "\n",
    "Para configurar los canales que se estén utilizando como entrada o salida hacemos lo siguiente:\n",
    "\n",
    "Para configurar el canal como entrada:"
   ]
  },
  {
   "cell_type": "code",
   "execution_count": null,
   "metadata": {
    "scrolled": true
   },
   "outputs": [],
   "source": [
    "GPIO.setup(canal,GPIO.IN)"
   ]
  },
  {
   "cell_type": "markdown",
   "metadata": {},
   "source": [
    "Para configurar el canal como salida:"
   ]
  },
  {
   "cell_type": "code",
   "execution_count": null,
   "metadata": {
    "collapsed": true
   },
   "outputs": [],
   "source": [
    "GPIO.setup(canal,GPIO.OUT)"
   ]
  },
  {
   "cell_type": "markdown",
   "metadata": {},
   "source": [
    "### Configurar más de un canal\n",
    "\n",
    "Podemos configurar multiples canales haciendolo de la siguiente forma:"
   ]
  },
  {
   "cell_type": "code",
   "execution_count": null,
   "metadata": {
    "collapsed": true
   },
   "outputs": [],
   "source": [
    "lista_canales = [18,23] # --> agregamos tantos canales como sea necesario.\n",
    "GPIO.setup(lista_canales, GPIO.OUT)"
   ]
  },
  {
   "cell_type": "markdown",
   "metadata": {},
   "source": [
    "### Leer valor de entrada\n",
    "\n",
    "Para leer el valor de entrada en un pin GPIO:"
   ]
  },
  {
   "cell_type": "code",
   "execution_count": null,
   "metadata": {
    "collapsed": true
   },
   "outputs": [],
   "source": [
    "GPIO.input(canal)"
   ]
  },
  {
   "cell_type": "markdown",
   "metadata": {},
   "source": [
    "### Establecer el estado de Salida\n",
    "\n",
    "Para establecer el estado de salida de un pin GPIO hacemos lo siguiente:"
   ]
  },
  {
   "cell_type": "code",
   "execution_count": null,
   "metadata": {
    "collapsed": true
   },
   "outputs": [],
   "source": [
    "GPIO.output(canal, estado) # el estado puede ser: 0, 1, GPIO.LOW, GPIO.HIGH, False o True."
   ]
  },
  {
   "cell_type": "markdown",
   "metadata": {},
   "source": [
    "### Salida a varios canales\n",
    "\n",
    "Podemos establecer el estado de salida de varios canales de la siguiente forma:"
   ]
  },
  {
   "cell_type": "code",
   "execution_count": null,
   "metadata": {
    "collapsed": true
   },
   "outputs": [],
   "source": [
    "lista_canales = [18, 23]\n",
    "GPIO.output(lista_canales, GPIO.LOW)\n",
    "GPIO.output(lista_canales, (GPIO.HIGH, GPIO.LOW)) # --> Establece primero HIGH y segundo LOW."
   ]
  },
  {
   "cell_type": "markdown",
   "metadata": {},
   "source": [
    "### Limpiar recursos\n",
    "\n",
    "Para limpiar todos los recursos usados al final de cualquier programa:\n"
   ]
  },
  {
   "cell_type": "code",
   "execution_count": null,
   "metadata": {
    "collapsed": true
   },
   "outputs": [],
   "source": [
    "GPIO.cleanup()"
   ]
  },
  {
   "cell_type": "markdown",
   "metadata": {},
   "source": [
    " ### Configurar PWM\n",
    "\n",
    "La modulación por ancho de pulsos o PWM(pulse-width modulation) modifica el ciclo de trabajo de una señal periódica para controlar la cantidad de energia que se envía, en otras palabras, modifica el tiempo de la seña para simular una señal analógica.\n",
    "\n",
    "Para crear una instancia de PMW lo realizamos la siguiente manera:"
   ]
  },
  {
   "cell_type": "code",
   "execution_count": null,
   "metadata": {},
   "outputs": [],
   "source": [
    "pwm_a= GPIO.PWM(canal,frecuencia) # --> la frecuencia está medida en hertz"
   ]
  },
  {
   "cell_type": "markdown",
   "metadata": {},
   "source": [
    "Para iniciar PWM:"
   ]
  },
  {
   "cell_type": "code",
   "execution_count": null,
   "metadata": {
    "collapsed": true
   },
   "outputs": [],
   "source": [
    "pwm_a.start(dc) # --> donde dc es la frecuencia de trabajo (0.0 <= dc <= 100.0)"
   ]
  },
  {
   "cell_type": "markdown",
   "metadata": {},
   "source": [
    "Para cambiar la frecuencia de trabajo:"
   ]
  },
  {
   "cell_type": "code",
   "execution_count": null,
   "metadata": {
    "collapsed": true
   },
   "outputs": [],
   "source": [
    "pwm_a.ChangeDutyCycle(dc) # --> donde dc es 0.0 <= dc <= 100.0"
   ]
  },
  {
   "cell_type": "markdown",
   "metadata": {},
   "source": [
    "Para detener PWM:"
   ]
  },
  {
   "cell_type": "code",
   "execution_count": null,
   "metadata": {
    "collapsed": true
   },
   "outputs": [],
   "source": [
    "pwm_a.stop()"
   ]
  },
  {
   "cell_type": "markdown",
   "metadata": {},
   "source": [
    "### - Detener la ejecución\n",
    "\n",
    "Para detener el robot despues de un tiempo de ejecución, usamos el metodo sleep() del modulo time:"
   ]
  },
  {
   "cell_type": "code",
   "execution_count": null,
   "metadata": {},
   "outputs": [],
   "source": [
    "import time # --> importamos el modulo time.\n",
    "\n",
    "time.sleep(tm) # -->  donde tm es el tiempo(en segundos) que permanecerá en ejecución. "
   ]
  },
  {
   "cell_type": "markdown",
   "metadata": {},
   "source": [
    "## Ejemplo:\n",
    "\n",
    "El siguiente codigo tiene como objetivo hacer que el robot se desplace hacia adelante por 5 segundos:"
   ]
  },
  {
   "cell_type": "code",
   "execution_count": 1,
   "metadata": {},
   "outputs": [],
   "source": [
    "import RPi.GPIO as GPIO\n",
    "import time\n",
    "\n",
    "ena=18\n",
    "in1=23\n",
    "in2=24\n",
    "enb=19\n",
    "in3=6\n",
    "in4=5\n",
    "\n",
    "GPIO.setmode(GPIO.BCM)\n",
    "\n",
    "GPIO.setup(ena,GPIO.OUT)\n",
    "GPIO.setup(in1,GPIO.OUT)\n",
    "GPIO.setup(in2,GPIO.OUT)\n",
    "\n",
    "GPIO.setup(enb,GPIO.OUT)\n",
    "GPIO.setup(in3,GPIO.OUT)\n",
    "GPIO.setup(in4,GPIO.OUT)\n",
    "\n",
    "pwm_a= GPIO.PWM(ena,500)\n",
    "pwm_b= GPIO.PWM(enb,500)\n",
    "pwm_a.start(0)\n",
    "pwm_b.start(0)\n",
    "\n",
    "GPIO.output(in1,False)\n",
    "GPIO.output(in2,True)\n",
    "GPIO.output(in3,False)\n",
    "GPIO.output(in4,True)\n",
    "pwm_a.ChangeDutyCycle(100)\n",
    "pwm_b.ChangeDutyCycle(100)\n",
    "\n",
    "time.sleep(5)\n",
    "\n",
    "pwm_a.stop()\n",
    "pwm_b.stop()\n",
    "GPIO.cleanup()\n"
   ]
  }
 ],
 "metadata": {
  "kernelspec": {
   "display_name": "Python 3",
   "language": "python",
   "name": "python3"
  },
  "language_info": {
   "codemirror_mode": {
    "name": "ipython",
    "version": 3
   },
   "file_extension": ".py",
   "mimetype": "text/x-python",
   "name": "python",
   "nbconvert_exporter": "python",
   "pygments_lexer": "ipython3",
   "version": "3.7.0"
  }
 },
 "nbformat": 4,
 "nbformat_minor": 2
}
